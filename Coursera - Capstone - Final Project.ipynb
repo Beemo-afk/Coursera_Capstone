{
    "cells": [
        {
            "cell_type": "markdown",
            "metadata": {
                "collapsed": true
            },
            "source": "<h1> Coursera IBM Capstone Project </h1>"
        },
        {
            "cell_type": "markdown",
            "metadata": {},
            "source": "<h3> Correlation between CIty Quality of Life and Surrounding Venues </h3>"
        },
        {
            "cell_type": "markdown",
            "metadata": {},
            "source": "<h2> Introduction </h2>"
        },
        {
            "cell_type": "markdown",
            "metadata": {},
            "source": "<h4> Business Problem </h4>\nIn this project we will try to find similar cities to a selected city ('Auckland' in New Zealand).\n\nWe will base this decision based on the correlation between the City Quality of Life Index and compare similar cities based on location data from FourSquare.\n\n<h4> Target Audience </h4>\nThe target audience is anyone looking to make a move to a new city or who is looking for a correlation between Quality of Life and surrounding venues.\n"
        },
        {
            "cell_type": "markdown",
            "metadata": {},
            "source": "<h2> Data </h2>"
        },
        {
            "cell_type": "markdown",
            "metadata": {},
            "source": "Based on our problem, we have identified an external data source that contains various quality of life indicies. In addition, FourSquare data will be used to identify cities with similar surrounding venues.\n\nThe following data sources will be used:\n<li> City Quality of Life Dataset (from Teleport.org) </li>\n<li> FourSquare location data, and venue information </li>\n\nWe will use the Quality of Life dataset identify similar rated cities (through the use of DBSCAN CLustering). Next we will use FourSquare venue data from the city centre - which will be used to identify the most similar cities from the quality of life cluster."
        },
        {
            "cell_type": "code",
            "execution_count": null,
            "metadata": {},
            "outputs": [],
            "source": ""
        }
    ],
    "metadata": {
        "kernelspec": {
            "display_name": "Python 3.7",
            "language": "python",
            "name": "python3"
        },
        "language_info": {
            "codemirror_mode": {
                "name": "ipython",
                "version": 3
            },
            "file_extension": ".py",
            "mimetype": "text/x-python",
            "name": "python",
            "nbconvert_exporter": "python",
            "pygments_lexer": "ipython3",
            "version": "3.7.10"
        }
    },
    "nbformat": 4,
    "nbformat_minor": 1
}