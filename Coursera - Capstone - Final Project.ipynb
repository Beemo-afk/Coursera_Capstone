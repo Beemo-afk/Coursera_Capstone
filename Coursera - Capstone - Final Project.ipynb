{
    "cells": [
        {
            "cell_type": "markdown",
            "metadata": {
                "collapsed": true
            },
            "source": "<h1> Coursera IBM Capstone Project </h1>"
        },
        {
            "cell_type": "markdown",
            "metadata": {},
            "source": "<h3> Correlation between CIty Quality of Life and Surrounding Venues </h3>"
        },
        {
            "cell_type": "markdown",
            "metadata": {},
            "source": "<h2> Introduction </h2>"
        },
        {
            "cell_type": "markdown",
            "metadata": {},
            "source": "<h4> Business Problem </h4>\nA client who runs a sunccessful business, has asked for us to identify cities where their business could be equally successful.\nIn this project we will try to find similar cities to a selected city ('Auckland' in New Zealand) - which is where the clients business is located.\n\nTo identify possible cities, we will base this decision based on the correlation between the City Quality of Life Index and compare similar cities based on location data from FourSquare.\nThe quality of life index will give a glimpse into the general sentiment of our clients customers, while the FourSquare location data will provide insight into the typical city venue make-up.\n\n<h4> Target Audience </h4>\nThe target audience is a client looking to identify new expansion options around the world.\nThey will have an idea of a current city where their business is currently successful.\n"
        },
        {
            "cell_type": "markdown",
            "metadata": {},
            "source": "<h2> Data </h2>"
        },
        {
            "cell_type": "markdown",
            "metadata": {},
            "source": "Based on our problem, we have identified an external data source that contains various quality of life indicies. In addition, FourSquare data will be used to identify cities with similar surrounding venues.\n\nThe following data sources will be used:\n<li> City Quality of Life Dataset (from Teleport.org) </li>\n<li> FourSquare location data, and venue information </li>\n\nWe will use the Quality of Life dataset identify similar rated cities (through the use of DBSCAN CLustering). Next we will use FourSquare venue data from the city centre - which will be used to identify the most similar cities from the quality of life cluster.\n\n<h4> City Quality of Life Dataset </h4>\nThe quality of life is identified by several unique scores (housing, cost of living, startups, venture capital, travel connectivity, commute, business freedom, safety, healthcare, education, environmental quality, economy, taxation and internet access). By taking an average of the following scores:\n<li> Cost of living </li>\n<li> Startups </li>\n<li> Travel Connectivity </li>\n<li> Business Freedom </li>\n<li> Economy </li>\n<li> Taxation </li>\nUsing the above indicies, a clustering technique (DBSCAN or SVM) will be used to identify cities similar to the clients input option.\n\n<h4> FourSquare Data </h4>\nThe FourSquare data will be used to identify the top options from the identified Quality of Life city.\nThis will also be selected using an un-supervised classification method.\n\n<h4> Example Data </h4>\nThe Quality of Life Dataset could identify cities whose residents value similar lifestyle qualities.\n\nFollowing this, we will have a list of cities that we can then compare based on similar popular venue types."
        },
        {
            "cell_type": "code",
            "execution_count": null,
            "metadata": {},
            "outputs": [],
            "source": ""
        }
    ],
    "metadata": {
        "kernelspec": {
            "display_name": "Python 3.7",
            "language": "python",
            "name": "python3"
        },
        "language_info": {
            "codemirror_mode": {
                "name": "ipython",
                "version": 3
            },
            "file_extension": ".py",
            "mimetype": "text/x-python",
            "name": "python",
            "nbconvert_exporter": "python",
            "pygments_lexer": "ipython3",
            "version": "3.7.10"
        }
    },
    "nbformat": 4,
    "nbformat_minor": 1
}